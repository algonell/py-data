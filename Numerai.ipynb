{
 "cells": [
  {
   "cell_type": "code",
   "execution_count": 114,
   "metadata": {
    "collapsed": false,
    "deletable": true,
    "editable": true,
    "nbpresent": {
     "id": "fd043e27-a7d3-4f16-bae3-4d92c4e93896"
    }
   },
   "outputs": [],
   "source": [
    "import pandas as pd\n",
    "import numpy as np \n",
    "import math\n",
    "import time\n",
    "import operator\n",
    "\n",
    "from sklearn import ensemble\n",
    "from sklearn import linear_model\n",
    "from sklearn import svm\n",
    "from sklearn import naive_bayes\n",
    "from sklearn import model_selection\n",
    "from sklearn import metrics\n",
    "from sklearn import preprocessing\n",
    "\n",
    "import xgboost as xgb\n",
    "\n",
    "%matplotlib inline\n",
    "import matplotlib.pyplot as plt\n",
    "import seaborn as sns"
   ]
  },
  {
   "cell_type": "markdown",
   "metadata": {
    "deletable": true,
    "editable": true,
    "nbpresent": {
     "id": "7bc523fa-84a8-4b83-a6b4-076b4cf6d032"
    }
   },
   "source": [
    "# Load Data"
   ]
  },
  {
   "cell_type": "code",
   "execution_count": 115,
   "metadata": {
    "collapsed": false,
    "deletable": true,
    "editable": true,
    "nbpresent": {
     "id": "10ce13f9-ef5f-4264-a473-48a97760323b"
    }
   },
   "outputs": [],
   "source": [
    "# get data\n",
    "train_data = pd.read_csv('/data/numerai_datasets/numerai_training_data.csv')\n",
    "test_data = pd.read_csv('/data/numerai_datasets/numerai_tournament_data.csv')"
   ]
  },
  {
   "cell_type": "code",
   "execution_count": 116,
   "metadata": {
    "collapsed": true,
    "deletable": true,
    "editable": true
   },
   "outputs": [],
   "source": [
    "#extract ID\n",
    "ids = test_data.values[:,0]\n",
    "test_data.drop(['t_id'], axis=1, inplace=True)"
   ]
  },
  {
   "cell_type": "code",
   "execution_count": 117,
   "metadata": {
    "collapsed": false,
    "deletable": true,
    "editable": true,
    "nbpresent": {
     "id": "baec816f-9bb7-42cc-bfcf-1808dc44f3ea"
    },
    "scrolled": true
   },
   "outputs": [
    {
     "name": "stdout",
     "output_type": "stream",
     "text": [
      "train:  (173844, 51)\n",
      "test:  (264876, 50)\n"
     ]
    }
   ],
   "source": [
    "print \"train: \", train_data.shape\n",
    "print \"test: \", test_data.shape"
   ]
  },
  {
   "cell_type": "code",
   "execution_count": 118,
   "metadata": {
    "collapsed": false,
    "deletable": true,
    "editable": true,
    "nbpresent": {
     "id": "b1cd4bd7-c795-4cb8-8a0b-e4aaff0512af"
    }
   },
   "outputs": [
    {
     "data": {
      "text/html": [
       "<div>\n",
       "<table border=\"1\" class=\"dataframe\">\n",
       "  <thead>\n",
       "    <tr style=\"text-align: right;\">\n",
       "      <th></th>\n",
       "      <th>feature1</th>\n",
       "      <th>feature2</th>\n",
       "      <th>feature3</th>\n",
       "      <th>feature4</th>\n",
       "      <th>feature5</th>\n",
       "      <th>feature6</th>\n",
       "      <th>feature7</th>\n",
       "      <th>feature8</th>\n",
       "      <th>feature9</th>\n",
       "      <th>feature10</th>\n",
       "      <th>...</th>\n",
       "      <th>feature42</th>\n",
       "      <th>feature43</th>\n",
       "      <th>feature44</th>\n",
       "      <th>feature45</th>\n",
       "      <th>feature46</th>\n",
       "      <th>feature47</th>\n",
       "      <th>feature48</th>\n",
       "      <th>feature49</th>\n",
       "      <th>feature50</th>\n",
       "      <th>target</th>\n",
       "    </tr>\n",
       "  </thead>\n",
       "  <tbody>\n",
       "    <tr>\n",
       "      <th>0</th>\n",
       "      <td>0.779178</td>\n",
       "      <td>0.426433</td>\n",
       "      <td>0.418566</td>\n",
       "      <td>0.579897</td>\n",
       "      <td>0.602174</td>\n",
       "      <td>0.617476</td>\n",
       "      <td>0.188963</td>\n",
       "      <td>0.664685</td>\n",
       "      <td>0.548962</td>\n",
       "      <td>0.428120</td>\n",
       "      <td>...</td>\n",
       "      <td>0.535529</td>\n",
       "      <td>0.364819</td>\n",
       "      <td>0.077530</td>\n",
       "      <td>0.552827</td>\n",
       "      <td>0.500349</td>\n",
       "      <td>0.428212</td>\n",
       "      <td>0.483159</td>\n",
       "      <td>0.378898</td>\n",
       "      <td>0.513796</td>\n",
       "      <td>1.0</td>\n",
       "    </tr>\n",
       "    <tr>\n",
       "      <th>1</th>\n",
       "      <td>0.402661</td>\n",
       "      <td>0.495588</td>\n",
       "      <td>0.550416</td>\n",
       "      <td>0.477632</td>\n",
       "      <td>0.634254</td>\n",
       "      <td>0.464662</td>\n",
       "      <td>0.530294</td>\n",
       "      <td>0.449357</td>\n",
       "      <td>0.561896</td>\n",
       "      <td>0.465977</td>\n",
       "      <td>...</td>\n",
       "      <td>0.352428</td>\n",
       "      <td>0.375022</td>\n",
       "      <td>0.328490</td>\n",
       "      <td>0.511662</td>\n",
       "      <td>0.591985</td>\n",
       "      <td>0.610517</td>\n",
       "      <td>0.519224</td>\n",
       "      <td>0.504858</td>\n",
       "      <td>0.543675</td>\n",
       "      <td>0.0</td>\n",
       "    </tr>\n",
       "    <tr>\n",
       "      <th>2</th>\n",
       "      <td>0.610055</td>\n",
       "      <td>0.735762</td>\n",
       "      <td>0.471352</td>\n",
       "      <td>0.376581</td>\n",
       "      <td>0.424241</td>\n",
       "      <td>0.634603</td>\n",
       "      <td>0.537878</td>\n",
       "      <td>0.461875</td>\n",
       "      <td>0.473637</td>\n",
       "      <td>0.523092</td>\n",
       "      <td>...</td>\n",
       "      <td>0.631627</td>\n",
       "      <td>0.607680</td>\n",
       "      <td>0.421754</td>\n",
       "      <td>0.731068</td>\n",
       "      <td>0.546721</td>\n",
       "      <td>0.568324</td>\n",
       "      <td>0.554409</td>\n",
       "      <td>0.527078</td>\n",
       "      <td>0.345822</td>\n",
       "      <td>0.0</td>\n",
       "    </tr>\n",
       "    <tr>\n",
       "      <th>3</th>\n",
       "      <td>0.530662</td>\n",
       "      <td>0.686998</td>\n",
       "      <td>0.515438</td>\n",
       "      <td>0.349434</td>\n",
       "      <td>0.392786</td>\n",
       "      <td>0.548612</td>\n",
       "      <td>0.412165</td>\n",
       "      <td>0.584493</td>\n",
       "      <td>0.466360</td>\n",
       "      <td>0.410736</td>\n",
       "      <td>...</td>\n",
       "      <td>0.642372</td>\n",
       "      <td>0.659400</td>\n",
       "      <td>0.473683</td>\n",
       "      <td>0.627518</td>\n",
       "      <td>0.462646</td>\n",
       "      <td>0.583620</td>\n",
       "      <td>0.469193</td>\n",
       "      <td>0.496289</td>\n",
       "      <td>0.408408</td>\n",
       "      <td>0.0</td>\n",
       "    </tr>\n",
       "    <tr>\n",
       "      <th>4</th>\n",
       "      <td>0.528537</td>\n",
       "      <td>0.414375</td>\n",
       "      <td>0.438764</td>\n",
       "      <td>0.633382</td>\n",
       "      <td>0.698721</td>\n",
       "      <td>0.735739</td>\n",
       "      <td>0.422502</td>\n",
       "      <td>0.600763</td>\n",
       "      <td>0.564069</td>\n",
       "      <td>0.600499</td>\n",
       "      <td>...</td>\n",
       "      <td>0.503946</td>\n",
       "      <td>0.537543</td>\n",
       "      <td>0.461172</td>\n",
       "      <td>0.405962</td>\n",
       "      <td>0.336028</td>\n",
       "      <td>0.606189</td>\n",
       "      <td>0.402953</td>\n",
       "      <td>0.459636</td>\n",
       "      <td>0.550660</td>\n",
       "      <td>0.0</td>\n",
       "    </tr>\n",
       "  </tbody>\n",
       "</table>\n",
       "<p>5 rows × 51 columns</p>\n",
       "</div>"
      ],
      "text/plain": [
       "   feature1  feature2  feature3  feature4  feature5  feature6  feature7  \\\n",
       "0  0.779178  0.426433  0.418566  0.579897  0.602174  0.617476  0.188963   \n",
       "1  0.402661  0.495588  0.550416  0.477632  0.634254  0.464662  0.530294   \n",
       "2  0.610055  0.735762  0.471352  0.376581  0.424241  0.634603  0.537878   \n",
       "3  0.530662  0.686998  0.515438  0.349434  0.392786  0.548612  0.412165   \n",
       "4  0.528537  0.414375  0.438764  0.633382  0.698721  0.735739  0.422502   \n",
       "\n",
       "   feature8  feature9  feature10   ...    feature42  feature43  feature44  \\\n",
       "0  0.664685  0.548962   0.428120   ...     0.535529   0.364819   0.077530   \n",
       "1  0.449357  0.561896   0.465977   ...     0.352428   0.375022   0.328490   \n",
       "2  0.461875  0.473637   0.523092   ...     0.631627   0.607680   0.421754   \n",
       "3  0.584493  0.466360   0.410736   ...     0.642372   0.659400   0.473683   \n",
       "4  0.600763  0.564069   0.600499   ...     0.503946   0.537543   0.461172   \n",
       "\n",
       "   feature45  feature46  feature47  feature48  feature49  feature50  target  \n",
       "0   0.552827   0.500349   0.428212   0.483159   0.378898   0.513796     1.0  \n",
       "1   0.511662   0.591985   0.610517   0.519224   0.504858   0.543675     0.0  \n",
       "2   0.731068   0.546721   0.568324   0.554409   0.527078   0.345822     0.0  \n",
       "3   0.627518   0.462646   0.583620   0.469193   0.496289   0.408408     0.0  \n",
       "4   0.405962   0.336028   0.606189   0.402953   0.459636   0.550660     0.0  \n",
       "\n",
       "[5 rows x 51 columns]"
      ]
     },
     "execution_count": 118,
     "metadata": {},
     "output_type": "execute_result"
    }
   ],
   "source": [
    "train_data.head()"
   ]
  },
  {
   "cell_type": "code",
   "execution_count": 119,
   "metadata": {
    "collapsed": false,
    "deletable": true,
    "editable": true
   },
   "outputs": [
    {
     "data": {
      "text/html": [
       "<div>\n",
       "<table border=\"1\" class=\"dataframe\">\n",
       "  <thead>\n",
       "    <tr style=\"text-align: right;\">\n",
       "      <th></th>\n",
       "      <th>feature1</th>\n",
       "      <th>feature2</th>\n",
       "      <th>feature3</th>\n",
       "      <th>feature4</th>\n",
       "      <th>feature5</th>\n",
       "      <th>feature6</th>\n",
       "      <th>feature7</th>\n",
       "      <th>feature8</th>\n",
       "      <th>feature9</th>\n",
       "      <th>feature10</th>\n",
       "      <th>...</th>\n",
       "      <th>feature41</th>\n",
       "      <th>feature42</th>\n",
       "      <th>feature43</th>\n",
       "      <th>feature44</th>\n",
       "      <th>feature45</th>\n",
       "      <th>feature46</th>\n",
       "      <th>feature47</th>\n",
       "      <th>feature48</th>\n",
       "      <th>feature49</th>\n",
       "      <th>feature50</th>\n",
       "    </tr>\n",
       "  </thead>\n",
       "  <tbody>\n",
       "    <tr>\n",
       "      <th>0</th>\n",
       "      <td>0.551578</td>\n",
       "      <td>0.423408</td>\n",
       "      <td>0.586551</td>\n",
       "      <td>0.608602</td>\n",
       "      <td>0.555070</td>\n",
       "      <td>0.571722</td>\n",
       "      <td>0.329937</td>\n",
       "      <td>0.656111</td>\n",
       "      <td>0.444510</td>\n",
       "      <td>0.540420</td>\n",
       "      <td>...</td>\n",
       "      <td>0.415784</td>\n",
       "      <td>0.614258</td>\n",
       "      <td>0.372983</td>\n",
       "      <td>0.406283</td>\n",
       "      <td>0.303399</td>\n",
       "      <td>0.324381</td>\n",
       "      <td>0.378367</td>\n",
       "      <td>0.562815</td>\n",
       "      <td>0.557074</td>\n",
       "      <td>0.394284</td>\n",
       "    </tr>\n",
       "    <tr>\n",
       "      <th>1</th>\n",
       "      <td>0.449299</td>\n",
       "      <td>0.560560</td>\n",
       "      <td>0.609896</td>\n",
       "      <td>0.363990</td>\n",
       "      <td>0.597433</td>\n",
       "      <td>0.479346</td>\n",
       "      <td>0.604371</td>\n",
       "      <td>0.317177</td>\n",
       "      <td>0.410328</td>\n",
       "      <td>0.611256</td>\n",
       "      <td>...</td>\n",
       "      <td>0.430137</td>\n",
       "      <td>0.400794</td>\n",
       "      <td>0.594452</td>\n",
       "      <td>0.405482</td>\n",
       "      <td>0.606372</td>\n",
       "      <td>0.686569</td>\n",
       "      <td>0.497322</td>\n",
       "      <td>0.498925</td>\n",
       "      <td>0.467430</td>\n",
       "      <td>0.444281</td>\n",
       "    </tr>\n",
       "    <tr>\n",
       "      <th>2</th>\n",
       "      <td>0.473734</td>\n",
       "      <td>0.557514</td>\n",
       "      <td>0.513725</td>\n",
       "      <td>0.527157</td>\n",
       "      <td>0.633930</td>\n",
       "      <td>0.586415</td>\n",
       "      <td>0.481549</td>\n",
       "      <td>0.435379</td>\n",
       "      <td>0.428335</td>\n",
       "      <td>0.636190</td>\n",
       "      <td>...</td>\n",
       "      <td>0.587222</td>\n",
       "      <td>0.526623</td>\n",
       "      <td>0.553604</td>\n",
       "      <td>0.528161</td>\n",
       "      <td>0.411759</td>\n",
       "      <td>0.498373</td>\n",
       "      <td>0.497864</td>\n",
       "      <td>0.544716</td>\n",
       "      <td>0.465167</td>\n",
       "      <td>0.476862</td>\n",
       "    </tr>\n",
       "    <tr>\n",
       "      <th>3</th>\n",
       "      <td>0.620427</td>\n",
       "      <td>0.594424</td>\n",
       "      <td>0.580931</td>\n",
       "      <td>0.314285</td>\n",
       "      <td>0.423363</td>\n",
       "      <td>0.411158</td>\n",
       "      <td>0.211485</td>\n",
       "      <td>0.751215</td>\n",
       "      <td>0.386131</td>\n",
       "      <td>0.364518</td>\n",
       "      <td>...</td>\n",
       "      <td>0.579057</td>\n",
       "      <td>0.685474</td>\n",
       "      <td>0.545053</td>\n",
       "      <td>0.410498</td>\n",
       "      <td>0.499253</td>\n",
       "      <td>0.540373</td>\n",
       "      <td>0.399592</td>\n",
       "      <td>0.709642</td>\n",
       "      <td>0.389209</td>\n",
       "      <td>0.272742</td>\n",
       "    </tr>\n",
       "    <tr>\n",
       "      <th>4</th>\n",
       "      <td>0.571241</td>\n",
       "      <td>0.371137</td>\n",
       "      <td>0.510843</td>\n",
       "      <td>0.592152</td>\n",
       "      <td>0.672221</td>\n",
       "      <td>0.694275</td>\n",
       "      <td>0.464046</td>\n",
       "      <td>0.525699</td>\n",
       "      <td>0.480996</td>\n",
       "      <td>0.717445</td>\n",
       "      <td>...</td>\n",
       "      <td>0.475188</td>\n",
       "      <td>0.527591</td>\n",
       "      <td>0.527959</td>\n",
       "      <td>0.448573</td>\n",
       "      <td>0.365735</td>\n",
       "      <td>0.376801</td>\n",
       "      <td>0.456864</td>\n",
       "      <td>0.390449</td>\n",
       "      <td>0.476513</td>\n",
       "      <td>0.461004</td>\n",
       "    </tr>\n",
       "  </tbody>\n",
       "</table>\n",
       "<p>5 rows × 50 columns</p>\n",
       "</div>"
      ],
      "text/plain": [
       "   feature1  feature2  feature3  feature4  feature5  feature6  feature7  \\\n",
       "0  0.551578  0.423408  0.586551  0.608602  0.555070  0.571722  0.329937   \n",
       "1  0.449299  0.560560  0.609896  0.363990  0.597433  0.479346  0.604371   \n",
       "2  0.473734  0.557514  0.513725  0.527157  0.633930  0.586415  0.481549   \n",
       "3  0.620427  0.594424  0.580931  0.314285  0.423363  0.411158  0.211485   \n",
       "4  0.571241  0.371137  0.510843  0.592152  0.672221  0.694275  0.464046   \n",
       "\n",
       "   feature8  feature9  feature10    ...      feature41  feature42  feature43  \\\n",
       "0  0.656111  0.444510   0.540420    ...       0.415784   0.614258   0.372983   \n",
       "1  0.317177  0.410328   0.611256    ...       0.430137   0.400794   0.594452   \n",
       "2  0.435379  0.428335   0.636190    ...       0.587222   0.526623   0.553604   \n",
       "3  0.751215  0.386131   0.364518    ...       0.579057   0.685474   0.545053   \n",
       "4  0.525699  0.480996   0.717445    ...       0.475188   0.527591   0.527959   \n",
       "\n",
       "   feature44  feature45  feature46  feature47  feature48  feature49  feature50  \n",
       "0   0.406283   0.303399   0.324381   0.378367   0.562815   0.557074   0.394284  \n",
       "1   0.405482   0.606372   0.686569   0.497322   0.498925   0.467430   0.444281  \n",
       "2   0.528161   0.411759   0.498373   0.497864   0.544716   0.465167   0.476862  \n",
       "3   0.410498   0.499253   0.540373   0.399592   0.709642   0.389209   0.272742  \n",
       "4   0.448573   0.365735   0.376801   0.456864   0.390449   0.476513   0.461004  \n",
       "\n",
       "[5 rows x 50 columns]"
      ]
     },
     "execution_count": 119,
     "metadata": {},
     "output_type": "execute_result"
    }
   ],
   "source": [
    "test_data.head()"
   ]
  },
  {
   "cell_type": "code",
   "execution_count": 120,
   "metadata": {
    "collapsed": false,
    "deletable": true,
    "editable": true
   },
   "outputs": [
    {
     "data": {
      "text/plain": [
       "<matplotlib.axes._subplots.AxesSubplot at 0x11dfcd750>"
      ]
     },
     "execution_count": 120,
     "metadata": {},
     "output_type": "execute_result"
    },
    {
     "data": {
      "image/png": "[encoded data removed]",
      "text/plain": [
       "<matplotlib.figure.Figure at 0x11dfc54d0>"
      ]
     },
     "metadata": {},
     "output_type": "display_data"
    }
   ],
   "source": [
    "sns.distplot(train_data['target'])"
   ]
  },
  {
   "cell_type": "code",
   "execution_count": 121,
   "metadata": {
    "collapsed": false,
    "deletable": true,
    "editable": true
   },
   "outputs": [
    {
     "data": {
      "text/plain": [
       "<matplotlib.axes._subplots.AxesSubplot at 0x11d952610>"
      ]
     },
     "execution_count": 121,
     "metadata": {},
     "output_type": "execute_result"
    },
    {
     "data": {
      "image/png": "[encoded data removed]",
      "text/plain": [
       "<matplotlib.figure.Figure at 0x11d96be90>"
      ]
     },
     "metadata": {},
     "output_type": "display_data"
    }
   ],
   "source": [
    "sns.distplot(train_data['feature1'])\n",
    "sns.distplot(test_data['feature1'])"
   ]
  },
  {
   "cell_type": "markdown",
   "metadata": {
    "deletable": true,
    "editable": true
   },
   "source": [
    "### Train vs. Test data Separation"
   ]
  },
  {
   "cell_type": "code",
   "execution_count": 122,
   "metadata": {
    "collapsed": true,
    "deletable": true,
    "editable": true
   },
   "outputs": [],
   "source": [
    "train_data['train'] = 1\n",
    "test_data['train'] = 0"
   ]
  },
  {
   "cell_type": "code",
   "execution_count": 123,
   "metadata": {
    "collapsed": true,
    "deletable": true,
    "editable": true
   },
   "outputs": [],
   "source": [
    "data = pd.concat([train_data,test_data])\n",
    "data = data.sample(frac=1).reset_index(drop=True)\n",
    "data.drop(['target'], axis=1, inplace=True)"
   ]
  },
  {
   "cell_type": "code",
   "execution_count": 124,
   "metadata": {
    "collapsed": false,
    "deletable": true,
    "editable": true
   },
   "outputs": [
    {
     "data": {
      "text/html": [
       "<div>\n",
       "<table border=\"1\" class=\"dataframe\">\n",
       "  <thead>\n",
       "    <tr style=\"text-align: right;\">\n",
       "      <th></th>\n",
       "      <th>feature1</th>\n",
       "      <th>feature10</th>\n",
       "      <th>feature11</th>\n",
       "      <th>feature12</th>\n",
       "      <th>feature13</th>\n",
       "      <th>feature14</th>\n",
       "      <th>feature15</th>\n",
       "      <th>feature16</th>\n",
       "      <th>feature17</th>\n",
       "      <th>feature18</th>\n",
       "      <th>...</th>\n",
       "      <th>feature47</th>\n",
       "      <th>feature48</th>\n",
       "      <th>feature49</th>\n",
       "      <th>feature5</th>\n",
       "      <th>feature50</th>\n",
       "      <th>feature6</th>\n",
       "      <th>feature7</th>\n",
       "      <th>feature8</th>\n",
       "      <th>feature9</th>\n",
       "      <th>train</th>\n",
       "    </tr>\n",
       "  </thead>\n",
       "  <tbody>\n",
       "    <tr>\n",
       "      <th>0</th>\n",
       "      <td>0.409820</td>\n",
       "      <td>0.485308</td>\n",
       "      <td>0.444221</td>\n",
       "      <td>0.348130</td>\n",
       "      <td>0.454486</td>\n",
       "      <td>0.297873</td>\n",
       "      <td>0.729325</td>\n",
       "      <td>0.437933</td>\n",
       "      <td>0.635335</td>\n",
       "      <td>0.546634</td>\n",
       "      <td>...</td>\n",
       "      <td>0.533207</td>\n",
       "      <td>0.577295</td>\n",
       "      <td>0.438643</td>\n",
       "      <td>0.370309</td>\n",
       "      <td>0.319058</td>\n",
       "      <td>0.394034</td>\n",
       "      <td>0.485081</td>\n",
       "      <td>0.399322</td>\n",
       "      <td>0.236957</td>\n",
       "      <td>0</td>\n",
       "    </tr>\n",
       "    <tr>\n",
       "      <th>1</th>\n",
       "      <td>0.497011</td>\n",
       "      <td>0.277236</td>\n",
       "      <td>0.574991</td>\n",
       "      <td>0.434549</td>\n",
       "      <td>0.527416</td>\n",
       "      <td>0.241473</td>\n",
       "      <td>0.566472</td>\n",
       "      <td>0.388516</td>\n",
       "      <td>0.531271</td>\n",
       "      <td>0.372881</td>\n",
       "      <td>...</td>\n",
       "      <td>0.608346</td>\n",
       "      <td>0.569624</td>\n",
       "      <td>0.396241</td>\n",
       "      <td>0.306273</td>\n",
       "      <td>0.438603</td>\n",
       "      <td>0.477398</td>\n",
       "      <td>0.214044</td>\n",
       "      <td>0.834428</td>\n",
       "      <td>0.493163</td>\n",
       "      <td>1</td>\n",
       "    </tr>\n",
       "    <tr>\n",
       "      <th>2</th>\n",
       "      <td>0.527797</td>\n",
       "      <td>0.335222</td>\n",
       "      <td>0.567754</td>\n",
       "      <td>0.396917</td>\n",
       "      <td>0.487801</td>\n",
       "      <td>0.288371</td>\n",
       "      <td>0.387974</td>\n",
       "      <td>0.438899</td>\n",
       "      <td>0.627053</td>\n",
       "      <td>0.345886</td>\n",
       "      <td>...</td>\n",
       "      <td>0.392403</td>\n",
       "      <td>0.755311</td>\n",
       "      <td>0.395345</td>\n",
       "      <td>0.250002</td>\n",
       "      <td>0.271645</td>\n",
       "      <td>0.414778</td>\n",
       "      <td>0.179050</td>\n",
       "      <td>0.804032</td>\n",
       "      <td>0.389593</td>\n",
       "      <td>0</td>\n",
       "    </tr>\n",
       "    <tr>\n",
       "      <th>3</th>\n",
       "      <td>0.465000</td>\n",
       "      <td>0.646479</td>\n",
       "      <td>0.517000</td>\n",
       "      <td>0.350357</td>\n",
       "      <td>0.526281</td>\n",
       "      <td>0.409515</td>\n",
       "      <td>0.532982</td>\n",
       "      <td>0.515485</td>\n",
       "      <td>0.536728</td>\n",
       "      <td>0.738880</td>\n",
       "      <td>...</td>\n",
       "      <td>0.544388</td>\n",
       "      <td>0.436506</td>\n",
       "      <td>0.347899</td>\n",
       "      <td>0.683614</td>\n",
       "      <td>0.523475</td>\n",
       "      <td>0.609035</td>\n",
       "      <td>0.561118</td>\n",
       "      <td>0.354365</td>\n",
       "      <td>0.469054</td>\n",
       "      <td>0</td>\n",
       "    </tr>\n",
       "    <tr>\n",
       "      <th>4</th>\n",
       "      <td>0.392787</td>\n",
       "      <td>0.655099</td>\n",
       "      <td>0.565935</td>\n",
       "      <td>0.641587</td>\n",
       "      <td>0.690903</td>\n",
       "      <td>0.624252</td>\n",
       "      <td>0.433765</td>\n",
       "      <td>0.334973</td>\n",
       "      <td>0.491463</td>\n",
       "      <td>0.733001</td>\n",
       "      <td>...</td>\n",
       "      <td>0.565274</td>\n",
       "      <td>0.430772</td>\n",
       "      <td>0.581992</td>\n",
       "      <td>0.645776</td>\n",
       "      <td>0.514079</td>\n",
       "      <td>0.740582</td>\n",
       "      <td>0.576624</td>\n",
       "      <td>0.495313</td>\n",
       "      <td>0.641490</td>\n",
       "      <td>0</td>\n",
       "    </tr>\n",
       "  </tbody>\n",
       "</table>\n",
       "<p>5 rows × 51 columns</p>\n",
       "</div>"
      ],
      "text/plain": [
       "   feature1  feature10  feature11  feature12  feature13  feature14  feature15  \\\n",
       "0  0.409820   0.485308   0.444221   0.348130   0.454486   0.297873   0.729325   \n",
       "1  0.497011   0.277236   0.574991   0.434549   0.527416   0.241473   0.566472   \n",
       "2  0.527797   0.335222   0.567754   0.396917   0.487801   0.288371   0.387974   \n",
       "3  0.465000   0.646479   0.517000   0.350357   0.526281   0.409515   0.532982   \n",
       "4  0.392787   0.655099   0.565935   0.641587   0.690903   0.624252   0.433765   \n",
       "\n",
       "   feature16  feature17  feature18  ...    feature47  feature48  feature49  \\\n",
       "0   0.437933   0.635335   0.546634  ...     0.533207   0.577295   0.438643   \n",
       "1   0.388516   0.531271   0.372881  ...     0.608346   0.569624   0.396241   \n",
       "2   0.438899   0.627053   0.345886  ...     0.392403   0.755311   0.395345   \n",
       "3   0.515485   0.536728   0.738880  ...     0.544388   0.436506   0.347899   \n",
       "4   0.334973   0.491463   0.733001  ...     0.565274   0.430772   0.581992   \n",
       "\n",
       "   feature5  feature50  feature6  feature7  feature8  feature9  train  \n",
       "0  0.370309   0.319058  0.394034  0.485081  0.399322  0.236957      0  \n",
       "1  0.306273   0.438603  0.477398  0.214044  0.834428  0.493163      1  \n",
       "2  0.250002   0.271645  0.414778  0.179050  0.804032  0.389593      0  \n",
       "3  0.683614   0.523475  0.609035  0.561118  0.354365  0.469054      0  \n",
       "4  0.645776   0.514079  0.740582  0.576624  0.495313  0.641490      0  \n",
       "\n",
       "[5 rows x 51 columns]"
      ]
     },
     "execution_count": 124,
     "metadata": {},
     "output_type": "execute_result"
    }
   ],
   "source": [
    "data.head()"
   ]
  },
  {
   "cell_type": "code",
   "execution_count": 125,
   "metadata": {
    "collapsed": false,
    "deletable": true,
    "editable": true
   },
   "outputs": [],
   "source": [
    "# split\n",
    "X_train, X_test, y_train, y_test = model_selection.train_test_split(data.values[:,:-1], data.values[:,-1], train_size=0.7)"
   ]
  },
  {
   "cell_type": "code",
   "execution_count": 126,
   "metadata": {
    "collapsed": false,
    "deletable": true,
    "editable": true,
    "nbpresent": {
     "id": "10ce13f9-ef5f-4264-a473-48a97760323b"
    }
   },
   "outputs": [],
   "source": [
    "# classify: train or test?\n",
    "clf = xgb.XGBClassifier(n_estimators=100, max_depth=10, learning_rate=0.01, seed=0).fit(X_train, y_train)"
   ]
  },
  {
   "cell_type": "code",
   "execution_count": 127,
   "metadata": {
    "collapsed": true,
    "deletable": true,
    "editable": true
   },
   "outputs": [],
   "source": [
    "def evaluate_clf(clf, X_train, X_test, y_train, y_test):\n",
    "    train_probas = clf.predict_proba(X_train)\n",
    "    train_predictions = clf.predict(X_train)\n",
    "    test_probas = clf.predict_proba(X_test)\n",
    "    test_predictions = clf.predict(X_test)\n",
    "\n",
    "    print 'precision (on train):', metrics.precision_score(y_train, train_predictions, average='weighted')\n",
    "    print 'precision:', metrics.precision_score(y_test, test_predictions, average='weighted')\n",
    "\n",
    "    print 'recall (on train):', metrics.recall_score(y_train, train_predictions, average='weighted')\n",
    "    print 'recall:', metrics.recall_score(y_test, test_predictions, average='weighted')\n",
    "\n",
    "    print 'log loss (on train):', metrics.log_loss(y_train, train_probas)\n",
    "    print 'log loss:', metrics.log_loss(y_test, test_probas)"
   ]
  },
  {
   "cell_type": "code",
   "execution_count": 128,
   "metadata": {
    "collapsed": false,
    "deletable": true,
    "editable": true
   },
   "outputs": [
    {
     "name": "stdout",
     "output_type": "stream",
     "text": [
      "precision (on train): 0.849028824346\n",
      "precision: 0.829943316315\n",
      "recall (on train): 0.822998072314\n",
      "recall: 0.80735624848\n",
      "log loss (on train): 0.508869030187\n",
      "log loss: 0.519133025397\n"
     ]
    }
   ],
   "source": [
    "evaluate_clf(clf, X_train, X_test, y_train, y_test)"
   ]
  },
  {
   "cell_type": "code",
   "execution_count": 129,
   "metadata": {
    "collapsed": false,
    "deletable": true,
    "editable": true
   },
   "outputs": [
    {
     "data": {
      "text/plain": [
       "<matplotlib.axes._subplots.AxesSubplot at 0x11e1f4a90>"
      ]
     },
     "execution_count": 129,
     "metadata": {},
     "output_type": "execute_result"
    },
    {
     "data": {
      "image/png": "[encoded data removed]",
      "text/plain": [
       "<matplotlib.figure.Figure at 0x11e23ce50>"
      ]
     },
     "metadata": {},
     "output_type": "display_data"
    }
   ],
   "source": [
    "# plot probabilities of test instances appear in train\n",
    "probas = clf.predict_proba(test_data.values[:,:-1])[:,1]\n",
    "sns.distplot(probas)"
   ]
  },
  {
   "cell_type": "code",
   "execution_count": 130,
   "metadata": {
    "collapsed": false,
    "deletable": true,
    "editable": true
   },
   "outputs": [
    {
     "data": {
      "text/plain": [
       "<matplotlib.axes._subplots.AxesSubplot at 0x120eebd10>"
      ]
     },
     "execution_count": 130,
     "metadata": {},
     "output_type": "execute_result"
    },
    {
     "data": {
      "image/png": "[encoded data removed]",
      "text/plain": [
       "<matplotlib.figure.Figure at 0x11e28a110>"
      ]
     },
     "metadata": {},
     "output_type": "display_data"
    }
   ],
   "source": [
    "# plot probabilities of train instances appear in test\n",
    "probas = clf.predict_proba(train_data.values[:,:-2])[:,0]\n",
    "sns.distplot(probas)"
   ]
  },
  {
   "cell_type": "code",
   "execution_count": 131,
   "metadata": {
    "collapsed": false,
    "deletable": true,
    "editable": true
   },
   "outputs": [],
   "source": [
    "# take train instances that probably appear in test\n",
    "test_probas = probas.argsort()\n",
    "train_data['train'] = probas"
   ]
  },
  {
   "cell_type": "code",
   "execution_count": 132,
   "metadata": {
    "collapsed": false,
    "deletable": true,
    "editable": true
   },
   "outputs": [
    {
     "name": "stdout",
     "output_type": "stream",
     "text": [
      "quantiles: [ 0.3324479   0.41764614  0.51741868]\n"
     ]
    }
   ],
   "source": [
    "quantiles = np.percentile(probas, [25, 50, 75])\n",
    "print 'quantiles:', quantiles"
   ]
  },
  {
   "cell_type": "code",
   "execution_count": 133,
   "metadata": {
    "collapsed": false,
    "deletable": true,
    "editable": true
   },
   "outputs": [],
   "source": [
    "# slice instances\n",
    "train_data = train_data.iloc[test_probas]\n",
    "train_data = train_data[train_data['train'] >= quantiles[1]]\n",
    "train_data = train_data.reset_index(drop=True)"
   ]
  },
  {
   "cell_type": "code",
   "execution_count": 134,
   "metadata": {
    "collapsed": false,
    "deletable": true,
    "editable": true
   },
   "outputs": [],
   "source": [
    "# drop tmp cols\n",
    "train_data.drop(['train'], axis=1, inplace=True)\n",
    "test_data.drop(['train'], axis=1, inplace=True)"
   ]
  },
  {
   "cell_type": "code",
   "execution_count": 135,
   "metadata": {
    "collapsed": false,
    "deletable": true,
    "editable": true
   },
   "outputs": [
    {
     "name": "stdout",
     "output_type": "stream",
     "text": [
      "reduced train: (86922, 51)\n"
     ]
    }
   ],
   "source": [
    "print 'reduced train:', train_data.shape"
   ]
  },
  {
   "cell_type": "code",
   "execution_count": 136,
   "metadata": {
    "collapsed": false,
    "deletable": true,
    "editable": true
   },
   "outputs": [
    {
     "data": {
      "text/plain": [
       "<matplotlib.axes._subplots.AxesSubplot at 0x11ceb8e10>"
      ]
     },
     "execution_count": 136,
     "metadata": {},
     "output_type": "execute_result"
    },
    {
     "data": {
      "image/png": "[encoded data removed]",
      "text/plain": [
       "<matplotlib.figure.Figure at 0x1171d2210>"
      ]
     },
     "metadata": {},
     "output_type": "display_data"
    }
   ],
   "source": [
    "sns.distplot(train_data['feature1'])\n",
    "sns.distplot(test_data['feature1'])"
   ]
  },
  {
   "cell_type": "markdown",
   "metadata": {
    "deletable": true,
    "editable": true,
    "nbpresent": {
     "id": "f07cd18a-b39f-4c44-bcff-8559341e7956"
    }
   },
   "source": [
    "# Feature Engineering"
   ]
  },
  {
   "cell_type": "code",
   "execution_count": null,
   "metadata": {
    "collapsed": false,
    "deletable": true,
    "editable": true
   },
   "outputs": [],
   "source": [
    "# add polynomial features\n",
    "data = pd.concat([train_data, test_data])\n",
    "data = data.reset_index(drop=True)"
   ]
  },
  {
   "cell_type": "code",
   "execution_count": null,
   "metadata": {
    "collapsed": false,
    "deletable": true,
    "editable": true
   },
   "outputs": [],
   "source": [
    "poly = preprocessing.PolynomialFeatures(interaction_only=True)\n",
    "poly.fit(data.values[:,:-1])"
   ]
  },
  {
   "cell_type": "code",
   "execution_count": null,
   "metadata": {
    "collapsed": true,
    "deletable": true,
    "editable": true
   },
   "outputs": [],
   "source": [
    "target = train_data['target']\n",
    "train_data = pd.DataFrame(poly.transform(train_data.values[:,:-1]))\n",
    "test_data = pd.DataFrame(poly.transform(test_data.values))\n",
    "train_data['target'] = target.values"
   ]
  },
  {
   "cell_type": "code",
   "execution_count": null,
   "metadata": {
    "collapsed": false,
    "deletable": true,
    "editable": true,
    "nbpresent": {
     "id": "b1980ca1-4ea7-46c1-a9f2-06639aad2580"
    }
   },
   "outputs": [],
   "source": [
    "train_data.head()"
   ]
  },
  {
   "cell_type": "markdown",
   "metadata": {
    "deletable": true,
    "editable": true,
    "nbpresent": {
     "id": "383a2367-b1b3-4197-9c15-08ab9ce3cd25"
    }
   },
   "source": [
    "# Data Preprocessing"
   ]
  },
  {
   "cell_type": "code",
   "execution_count": null,
   "metadata": {
    "collapsed": true,
    "deletable": true,
    "editable": true,
    "nbpresent": {
     "id": "c95efdc2-05fc-4eae-ae0c-86c1624bce30"
    }
   },
   "outputs": [],
   "source": [
    "#numerical & categorical features\n",
    "numerical = train_data._get_numeric_data().columns\n",
    "categorical = [item for item in train_data.columns if item not in numerical]\n",
    "categorical_indexes = [train_data.columns.get_loc(x) for x in categorical]"
   ]
  },
  {
   "cell_type": "code",
   "execution_count": null,
   "metadata": {
    "collapsed": false,
    "deletable": true,
    "editable": true,
    "nbpresent": {
     "id": "73c746e6-70fd-4089-befb-7b143b65293c"
    }
   },
   "outputs": [],
   "source": [
    "#LabelEncoder\n",
    "for x in categorical:\n",
    "    le = preprocessing.LabelEncoder()\n",
    "    le.fit(train_data[x])\n",
    "    train_data[x] = le.transform(train_data[x])\n",
    "    \n",
    "    le = preprocessing.LabelEncoder()\n",
    "    le.fit(test_data[x])\n",
    "    test_data[x] = le.transform(test_data[x])    "
   ]
  },
  {
   "cell_type": "code",
   "execution_count": null,
   "metadata": {
    "collapsed": false,
    "deletable": true,
    "editable": true
   },
   "outputs": [],
   "source": [
    "# MinMaxScaler\n",
    "print 'before scaling:', train_data.min().min(), train_data.max().max()\n",
    "target = train_data['target']\n",
    "\n",
    "for x in test_data:\n",
    "    scaler = preprocessing.MinMaxScaler()\n",
    "    scaler.fit(pd.concat([train_data[x], test_data[x]]).values.reshape(-1, 1))\n",
    "    train_data[x] = scaler.transform(train_data[x].values.reshape(-1, 1))\n",
    "    test_data[x] = scaler.transform(test_data[x].values.reshape(-1, 1)) \n",
    "    \n",
    "train_data['target'] = target    \n",
    "\n",
    "print 'after scaling:', train_data.min().min(), train_data.max().max()"
   ]
  },
  {
   "cell_type": "code",
   "execution_count": null,
   "metadata": {
    "collapsed": false,
    "deletable": true,
    "editable": true
   },
   "outputs": [],
   "source": [
    "train_data.head()"
   ]
  },
  {
   "cell_type": "markdown",
   "metadata": {
    "deletable": true,
    "editable": true,
    "nbpresent": {
     "id": "17383c09-2652-4be7-a875-35f530a03b96"
    }
   },
   "source": [
    "# Feature Importance"
   ]
  },
  {
   "cell_type": "code",
   "execution_count": null,
   "metadata": {
    "collapsed": false,
    "deletable": true,
    "editable": true,
    "nbpresent": {
     "id": "f3f2c82e-64a6-47b8-9187-d3b6a5030f3d"
    },
    "scrolled": true
   },
   "outputs": [],
   "source": [
    "def rank_features_xgb(df, model):\n",
    "    # fit \n",
    "    model.fit(df.values[:,:-1], df.values[:,-1])   \n",
    "\n",
    "    #list feature importance\n",
    "    imp_dict = model.booster().get_fscore()\n",
    "    imp_dict = sorted(imp_dict.items(), key=operator.itemgetter(1), reverse=True)\n",
    "\n",
    "    imp_arr = np.asarray(imp_dict)\n",
    "    indices = np.empty([imp_arr.shape[0], 0])\n",
    "\n",
    "    for x in imp_arr[:,0]:\n",
    "        indices = np.append(indices, x.replace('f', ''))\n",
    "\n",
    "    indices = indices.astype(int)\n",
    "    importances = imp_arr[:,1].astype(int)    \n",
    "\n",
    "    # Print the feature ranking\n",
    "    print(\"Feature ranking:\")\n",
    "\n",
    "    for f in range(indices.shape[0] - 1):\n",
    "        print f, 'index', indices[f], df.columns[indices[f]], importances[f]    \n",
    "\n",
    "    # Plot the feature importances of the forest\n",
    "    plt.figure(figsize=(15,5))\n",
    "    plt.title(\"Feature importances\")\n",
    "    plt.bar(range(indices.shape[0]), importances[:indices.shape[0]], color=\"r\", align=\"center\")\n",
    "    plt.xticks(range(df.shape[1]), indices)\n",
    "    plt.xlim([-1, df.shape[1]])\n",
    "    plt.show()         \n",
    "\n",
    "    # plot via xgb\n",
    "    fig, ax = plt.subplots(1,1,figsize=(15,10))\n",
    "    xgb.plot_importance(model, ax=ax)     \n",
    "    \n",
    "    return indices"
   ]
  },
  {
   "cell_type": "code",
   "execution_count": null,
   "metadata": {
    "collapsed": false,
    "deletable": true,
    "editable": true,
    "scrolled": true
   },
   "outputs": [],
   "source": [
    "def rank_features_sklearn(df, model):\n",
    "    # supervised ranking\n",
    "    model.fit(df.values[:,:-1], df.values[:,-1])\n",
    "    \n",
    "    #list feature importance\n",
    "    importances = model.feature_importances_\n",
    "    std = np.std([tree.feature_importances_ for tree in model.estimators_], axis=0)\n",
    "    indices = np.argsort(importances)[::-1]\n",
    "\n",
    "    # Print the feature ranking\n",
    "    print(\"Feature ranking:\")\n",
    "\n",
    "    for f in range(df.shape[1] - 1):\n",
    "        print f, 'index', indices[f], df.columns[indices[f]], importances[indices[f]]\n",
    "        \n",
    "    # Plot the feature importances of the forest\n",
    "    plt.figure(figsize=(15,5))\n",
    "    plt.title(\"Feature importances\")\n",
    "    plt.bar(range(df.shape[1] - 1), importances[indices], color=\"r\", yerr=std[indices], align=\"center\")\n",
    "    plt.xticks(range(df.shape[1]), indices)\n",
    "    plt.xlim([-1, df.shape[1]])\n",
    "    plt.show()\n",
    "    \n",
    "    return indices"
   ]
  },
  {
   "cell_type": "code",
   "execution_count": null,
   "metadata": {
    "collapsed": false,
    "deletable": true,
    "editable": true,
    "nbpresent": {
     "id": "39ac09e2-16df-4ac2-84da-9bec4ef6c9ea"
    },
    "scrolled": true
   },
   "outputs": [],
   "source": [
    "model = ensemble.ExtraTreesClassifier(n_estimators = 100, max_depth=10, random_state=0)\n",
    "indices_sklearn = rank_features_sklearn(train_data, model)"
   ]
  },
  {
   "cell_type": "code",
   "execution_count": null,
   "metadata": {
    "collapsed": false,
    "deletable": true,
    "editable": true,
    "scrolled": true
   },
   "outputs": [],
   "source": [
    "model = xgb.XGBClassifier(n_estimators=100, max_depth=10, learning_rate=0.01, seed=0)\n",
    "indices_xgb = rank_features_xgb(train_data, model)"
   ]
  },
  {
   "cell_type": "markdown",
   "metadata": {
    "deletable": true,
    "editable": true,
    "nbpresent": {
     "id": "2401e25d-2135-41e3-9db1-c38097349c39"
    }
   },
   "source": [
    "# Feature Selection"
   ]
  },
  {
   "cell_type": "code",
   "execution_count": null,
   "metadata": {
    "collapsed": false,
    "deletable": true,
    "editable": true,
    "nbpresent": {
     "id": "5cabf898-2bd6-4ccf-81f9-02a2de583de6"
    }
   },
   "outputs": [],
   "source": [
    "def select_features(features, indices, df_train, df_test):\n",
    "    # create new feature list\n",
    "    cols = []\n",
    "\n",
    "    for f in range(features):\n",
    "        cols.append(df_train.columns[indices[f]])        \n",
    "        \n",
    "    print cols    \n",
    "    \n",
    "    # reduce df for selected cols\n",
    "    df_test = pd.DataFrame(df_test, columns=cols)\n",
    "    cols.append('target')\n",
    "    df_train = pd.DataFrame(df_train, columns=cols)\n",
    "    \n",
    "    return df_train, df_test"
   ]
  },
  {
   "cell_type": "code",
   "execution_count": null,
   "metadata": {
    "collapsed": false,
    "deletable": true,
    "editable": true
   },
   "outputs": [],
   "source": [
    "# combine two methods for the feature selection\n",
    "topk = 100\n",
    "indices = np.concatenate((indices_sklearn[:topk], indices_xgb[:topk]), axis=0)\n",
    "indices = np.unique(indices)"
   ]
  },
  {
   "cell_type": "code",
   "execution_count": null,
   "metadata": {
    "collapsed": false,
    "deletable": true,
    "editable": true,
    "nbpresent": {
     "id": "e1830c55-6998-4022-9de9-bb17da90539e"
    }
   },
   "outputs": [],
   "source": [
    "train_data, test_data = select_features(indices.shape[0], indices, train_data, test_data)"
   ]
  },
  {
   "cell_type": "markdown",
   "metadata": {
    "deletable": true,
    "editable": true,
    "nbpresent": {
     "id": "428dc5ff-0d5f-4476-971e-7bc555f4eaa9"
    }
   },
   "source": [
    "# Create Models"
   ]
  },
  {
   "cell_type": "code",
   "execution_count": 137,
   "metadata": {
    "collapsed": false,
    "deletable": true,
    "editable": true,
    "nbpresent": {
     "id": "a51e86d3-3712-4a6c-94f1-13a7652a4a2f"
    }
   },
   "outputs": [],
   "source": [
    "#generate classifiers\n",
    "clfs = {\n",
    "    'GaussianNB' : naive_bayes.GaussianNB(),\n",
    "    'SGD' : linear_model.SGDClassifier(random_state=1, loss='log', n_iter=1000),\n",
    "    'XGB' : xgb.XGBClassifier(n_estimators=100, max_depth=10, seed=1),\n",
    "    'LR' : linear_model.LogisticRegression(max_iter=1000, random_state=1)\n",
    "}"
   ]
  },
  {
   "cell_type": "code",
   "execution_count": 138,
   "metadata": {
    "collapsed": false,
    "deletable": true,
    "editable": true
   },
   "outputs": [],
   "source": [
    "#LR lbfgs\n",
    "for p1 in ['l2']:\n",
    "    for p2 in [1, 10, 100, 1000]:\n",
    "        for p3 in [True, False]:\n",
    "            for p4 in [None, 'balanced']:\n",
    "                key = 'LR' + ', penalty=' + str(p1) + ', C=' + str(p2) + ', fit_intercept=' + str(p3) + ', class_weight=' + str(p4) + ', solver=lbfgs'\n",
    "                value = linear_model.LogisticRegression(max_iter=1000, random_state=1, penalty=p1, C=p2, fit_intercept=p3, class_weight=p4, solver='lbfgs')\n",
    "                clfs[key]=value"
   ]
  },
  {
   "cell_type": "code",
   "execution_count": 139,
   "metadata": {
    "collapsed": false,
    "deletable": true,
    "editable": true,
    "nbpresent": {
     "id": "f20d7f9f-1543-44b8-a4e0-863ff195414b"
    }
   },
   "outputs": [
    {
     "name": "stdout",
     "output_type": "stream",
     "text": [
      "20\n"
     ]
    }
   ],
   "source": [
    "#show number of classifiers\n",
    "num_of_clfs = len(clfs)\n",
    "print num_of_clfs"
   ]
  },
  {
   "cell_type": "markdown",
   "metadata": {
    "deletable": true,
    "editable": true,
    "nbpresent": {
     "id": "543c849a-8e73-4e7e-a4b0-b6b5cac05a11"
    }
   },
   "source": [
    "# Out of Fold Flow"
   ]
  },
  {
   "cell_type": "code",
   "execution_count": 140,
   "metadata": {
    "collapsed": false,
    "deletable": true,
    "editable": true,
    "nbpresent": {
     "id": "7375efbb-89f0-4210-a35f-afe845853189"
    }
   },
   "outputs": [],
   "source": [
    "def folds_to_list(folds, df):\n",
    "    kf = model_selection.KFold(n_splits = folds)\n",
    "    #kf = model_selection.StratifiedKFold(n_splits = folds)\n",
    "    train = []\n",
    "    test = []\n",
    "\n",
    "    #for x, y in kf.split(df.values):\n",
    "    for x, y in kf.split(df.values[:,:-1], df.values[:,-1]):        \n",
    "        train.append(x)\n",
    "        test.append(y)\n",
    "        print x, y\n",
    "        \n",
    "    return train, test"
   ]
  },
  {
   "cell_type": "code",
   "execution_count": 141,
   "metadata": {
    "collapsed": false,
    "deletable": true,
    "editable": true,
    "nbpresent": {
     "id": "b5ec5f6d-960e-493f-9b25-955971bd42ed"
    }
   },
   "outputs": [],
   "source": [
    "def k_fold_flow(folds, df_train, df_test):\n",
    "    # create DataFrame from clfs probabilities\n",
    "    stacked_train_data = pd.DataFrame()\n",
    "    stacked_test_data = pd.DataFrame()\n",
    "\n",
    "    # create folds\n",
    "    print '\\nCreating folds...'\n",
    "    train, test = folds_to_list(folds, df_train)\n",
    "    submission_train, submission_test = folds_to_list(folds, df_test)\n",
    "\n",
    "    # for each fold: fit, predict and save data\n",
    "    for fold in range(0, folds):\n",
    "        # get fold\n",
    "        X_train = df_train.values[:,:-1][train[fold]]\n",
    "        X_test = df_train.values[:,:-1][test[fold]]\n",
    "        y_train = df_train.values[:,-1][train[fold]]\n",
    "        y_test = df_train.values[:,-1][test[fold]]\n",
    "        \n",
    "        submission_X_train = df_test.values[submission_train[fold]]\n",
    "        submission_X_test = df_test.values[submission_test[fold]]\n",
    "        \n",
    "        # fit clfs\n",
    "        print '\\nFold', str(fold + 1) + \"/\" + str(folds), 'Fitting classifiers...'\n",
    "        for j, clf in enumerate(clfs):\n",
    "            #print str(j + 1) + '/' + str(num_of_clfs), clfs[clf]\n",
    "            clfs[clf].fit(X_train, y_train)\n",
    "\n",
    "        # create DataFrame from clfs probabilities\n",
    "        print '\\nFold', str(fold + 1) + \"/\" + str(folds), 'Creating stacked data...'\n",
    "        stacked_train_data_fold = pd.DataFrame()\n",
    "        stacked_test_data_fold = pd.DataFrame()\n",
    "\n",
    "        for j, clf in enumerate(clfs):\n",
    "            #print j, clf \n",
    "\n",
    "            stacked_train_data_fold['target'] = y_test\n",
    "\n",
    "            train_probas = clfs[clf].predict_proba(X_test)\n",
    "            train_predictions = clfs[clf].predict(X_test)\n",
    "            stacked_train_data_fold[clf + '_0'] = train_probas[:,0]\n",
    "            stacked_train_data_fold[clf + '_1'] = train_probas[:,1]\n",
    "            stacked_train_data_fold[clf + '_pred'] = train_predictions\n",
    "\n",
    "            test_probas = clfs[clf].predict_proba(submission_X_test)\n",
    "            test_predictions = clfs[clf].predict(submission_X_test)\n",
    "            stacked_test_data_fold[clf + '_0'] = test_probas[:,0]\n",
    "            stacked_test_data_fold[clf + '_1'] = test_probas[:,1]\n",
    "            stacked_test_data_fold[clf + '_pred'] = test_predictions\n",
    "\n",
    "        # append data\n",
    "        print '\\nFold', str(fold + 1) + \"/\" + str(folds), 'Concatenating fold data...'\n",
    "        stacked_train_data = pd.concat([stacked_train_data, stacked_train_data_fold], axis=0)\n",
    "        stacked_test_data = pd.concat([stacked_test_data, stacked_test_data_fold], axis=0)\n",
    "        \n",
    "    return stacked_train_data, stacked_test_data"
   ]
  },
  {
   "cell_type": "code",
   "execution_count": 142,
   "metadata": {
    "collapsed": false,
    "deletable": true,
    "editable": true,
    "nbpresent": {
     "id": "a68f9217-7a59-4710-980c-8c606a103ee2"
    },
    "scrolled": true
   },
   "outputs": [
    {
     "name": "stdout",
     "output_type": "stream",
     "text": [
      "\n",
      "Creating folds...\n",
      "[17385 17386 17387 ..., 86919 86920 86921] [    0     1     2 ..., 17382 17383 17384]\n",
      "[    0     1     2 ..., 86919 86920 86921] [17385 17386 17387 ..., 34767 34768 34769]\n",
      "[    0     1     2 ..., 86919 86920 86921] [34770 34771 34772 ..., 52151 52152 52153]\n",
      "[    0     1     2 ..., 86919 86920 86921] [52154 52155 52156 ..., 69535 69536 69537]\n",
      "[    0     1     2 ..., 69535 69536 69537] [69538 69539 69540 ..., 86919 86920 86921]\n",
      "[ 52976  52977  52978 ..., 264873 264874 264875] [    0     1     2 ..., 52973 52974 52975]\n",
      "[     0      1      2 ..., 264873 264874 264875] [ 52976  52977  52978 ..., 105948 105949 105950]\n",
      "[     0      1      2 ..., 264873 264874 264875] [105951 105952 105953 ..., 158923 158924 158925]\n",
      "[     0      1      2 ..., 264873 264874 264875] [158926 158927 158928 ..., 211898 211899 211900]\n",
      "[     0      1      2 ..., 211898 211899 211900] [211901 211902 211903 ..., 264873 264874 264875]\n",
      "\n",
      "Fold 1/5 Fitting classifiers...\n",
      "\n",
      "Fold 1/5 Creating stacked data...\n",
      "\n",
      "Fold 1/5 Concatenating fold data...\n",
      "\n",
      "Fold 2/5 Fitting classifiers...\n",
      "\n",
      "Fold 2/5 Creating stacked data...\n",
      "\n",
      "Fold 2/5 Concatenating fold data...\n",
      "\n",
      "Fold 3/5 Fitting classifiers...\n",
      "\n",
      "Fold 3/5 Creating stacked data...\n",
      "\n",
      "Fold 3/5 Concatenating fold data...\n",
      "\n",
      "Fold 4/5 Fitting classifiers...\n",
      "\n",
      "Fold 4/5 Creating stacked data...\n",
      "\n",
      "Fold 4/5 Concatenating fold data...\n",
      "\n",
      "Fold 5/5 Fitting classifiers...\n",
      "\n",
      "Fold 5/5 Creating stacked data...\n",
      "\n",
      "Fold 5/5 Concatenating fold data...\n"
     ]
    }
   ],
   "source": [
    "stacked_train_data, stacked_test_data = k_fold_flow(5, train_data, test_data)"
   ]
  },
  {
   "cell_type": "code",
   "execution_count": 143,
   "metadata": {
    "collapsed": false,
    "deletable": true,
    "editable": true,
    "nbpresent": {
     "id": "003c34c7-de2c-4dce-a367-f8171f1422c4"
    }
   },
   "outputs": [],
   "source": [
    "def move_class_to_end(df):\n",
    "    # move target to the end\n",
    "    cols = df.columns.tolist()\n",
    "    cols.remove('target')\n",
    "    cols.append('target')\n",
    "    return df[cols]"
   ]
  },
  {
   "cell_type": "code",
   "execution_count": 144,
   "metadata": {
    "collapsed": true,
    "deletable": true,
    "editable": true
   },
   "outputs": [],
   "source": [
    "stacked_train_data = move_class_to_end(stacked_train_data)"
   ]
  },
  {
   "cell_type": "code",
   "execution_count": 145,
   "metadata": {
    "collapsed": false,
    "deletable": true,
    "editable": true,
    "nbpresent": {
     "id": "394bcd7d-70be-4a27-bccb-bdbd021ef02b"
    }
   },
   "outputs": [
    {
     "data": {
      "text/html": [
       "<div>\n",
       "<table border=\"1\" class=\"dataframe\">\n",
       "  <thead>\n",
       "    <tr style=\"text-align: right;\">\n",
       "      <th></th>\n",
       "      <th>LR, penalty=l2, C=1, fit_intercept=True, class_weight=None, solver=lbfgs_0</th>\n",
       "      <th>LR, penalty=l2, C=1, fit_intercept=True, class_weight=None, solver=lbfgs_1</th>\n",
       "      <th>LR, penalty=l2, C=1, fit_intercept=True, class_weight=None, solver=lbfgs_pred</th>\n",
       "      <th>LR, penalty=l2, C=10, fit_intercept=False, class_weight=balanced, solver=lbfgs_0</th>\n",
       "      <th>LR, penalty=l2, C=10, fit_intercept=False, class_weight=balanced, solver=lbfgs_1</th>\n",
       "      <th>LR, penalty=l2, C=10, fit_intercept=False, class_weight=balanced, solver=lbfgs_pred</th>\n",
       "      <th>LR, penalty=l2, C=1000, fit_intercept=False, class_weight=balanced, solver=lbfgs_0</th>\n",
       "      <th>LR, penalty=l2, C=1000, fit_intercept=False, class_weight=balanced, solver=lbfgs_1</th>\n",
       "      <th>LR, penalty=l2, C=1000, fit_intercept=False, class_weight=balanced, solver=lbfgs_pred</th>\n",
       "      <th>LR, penalty=l2, C=10, fit_intercept=False, class_weight=None, solver=lbfgs_0</th>\n",
       "      <th>...</th>\n",
       "      <th>LR, penalty=l2, C=10, fit_intercept=True, class_weight=balanced, solver=lbfgs_0</th>\n",
       "      <th>LR, penalty=l2, C=10, fit_intercept=True, class_weight=balanced, solver=lbfgs_1</th>\n",
       "      <th>LR, penalty=l2, C=10, fit_intercept=True, class_weight=balanced, solver=lbfgs_pred</th>\n",
       "      <th>LR, penalty=l2, C=100, fit_intercept=False, class_weight=None, solver=lbfgs_0</th>\n",
       "      <th>LR, penalty=l2, C=100, fit_intercept=False, class_weight=None, solver=lbfgs_1</th>\n",
       "      <th>LR, penalty=l2, C=100, fit_intercept=False, class_weight=None, solver=lbfgs_pred</th>\n",
       "      <th>SGD_0</th>\n",
       "      <th>SGD_1</th>\n",
       "      <th>SGD_pred</th>\n",
       "      <th>target</th>\n",
       "    </tr>\n",
       "  </thead>\n",
       "  <tbody>\n",
       "    <tr>\n",
       "      <th>0</th>\n",
       "      <td>0.489331</td>\n",
       "      <td>0.510669</td>\n",
       "      <td>1.0</td>\n",
       "      <td>0.491370</td>\n",
       "      <td>0.508630</td>\n",
       "      <td>1.0</td>\n",
       "      <td>0.491255</td>\n",
       "      <td>0.508745</td>\n",
       "      <td>1.0</td>\n",
       "      <td>0.489469</td>\n",
       "      <td>...</td>\n",
       "      <td>0.491432</td>\n",
       "      <td>0.508568</td>\n",
       "      <td>1.0</td>\n",
       "      <td>0.488871</td>\n",
       "      <td>0.511129</td>\n",
       "      <td>1.0</td>\n",
       "      <td>0.490422</td>\n",
       "      <td>0.509578</td>\n",
       "      <td>1.0</td>\n",
       "      <td>1.0</td>\n",
       "    </tr>\n",
       "    <tr>\n",
       "      <th>1</th>\n",
       "      <td>0.508575</td>\n",
       "      <td>0.491425</td>\n",
       "      <td>0.0</td>\n",
       "      <td>0.511140</td>\n",
       "      <td>0.488860</td>\n",
       "      <td>0.0</td>\n",
       "      <td>0.511271</td>\n",
       "      <td>0.488729</td>\n",
       "      <td>0.0</td>\n",
       "      <td>0.509060</td>\n",
       "      <td>...</td>\n",
       "      <td>0.511102</td>\n",
       "      <td>0.488898</td>\n",
       "      <td>0.0</td>\n",
       "      <td>0.509367</td>\n",
       "      <td>0.490633</td>\n",
       "      <td>0.0</td>\n",
       "      <td>0.507362</td>\n",
       "      <td>0.492638</td>\n",
       "      <td>0.0</td>\n",
       "      <td>0.0</td>\n",
       "    </tr>\n",
       "    <tr>\n",
       "      <th>2</th>\n",
       "      <td>0.507847</td>\n",
       "      <td>0.492153</td>\n",
       "      <td>0.0</td>\n",
       "      <td>0.510099</td>\n",
       "      <td>0.489901</td>\n",
       "      <td>0.0</td>\n",
       "      <td>0.510175</td>\n",
       "      <td>0.489825</td>\n",
       "      <td>0.0</td>\n",
       "      <td>0.508124</td>\n",
       "      <td>...</td>\n",
       "      <td>0.510138</td>\n",
       "      <td>0.489862</td>\n",
       "      <td>0.0</td>\n",
       "      <td>0.508377</td>\n",
       "      <td>0.491623</td>\n",
       "      <td>0.0</td>\n",
       "      <td>0.506280</td>\n",
       "      <td>0.493720</td>\n",
       "      <td>0.0</td>\n",
       "      <td>0.0</td>\n",
       "    </tr>\n",
       "    <tr>\n",
       "      <th>3</th>\n",
       "      <td>0.511446</td>\n",
       "      <td>0.488554</td>\n",
       "      <td>0.0</td>\n",
       "      <td>0.513235</td>\n",
       "      <td>0.486765</td>\n",
       "      <td>0.0</td>\n",
       "      <td>0.513110</td>\n",
       "      <td>0.486890</td>\n",
       "      <td>0.0</td>\n",
       "      <td>0.510823</td>\n",
       "      <td>...</td>\n",
       "      <td>0.513103</td>\n",
       "      <td>0.486897</td>\n",
       "      <td>0.0</td>\n",
       "      <td>0.511255</td>\n",
       "      <td>0.488745</td>\n",
       "      <td>0.0</td>\n",
       "      <td>0.513247</td>\n",
       "      <td>0.486753</td>\n",
       "      <td>0.0</td>\n",
       "      <td>0.0</td>\n",
       "    </tr>\n",
       "    <tr>\n",
       "      <th>4</th>\n",
       "      <td>0.486538</td>\n",
       "      <td>0.513462</td>\n",
       "      <td>1.0</td>\n",
       "      <td>0.488557</td>\n",
       "      <td>0.511443</td>\n",
       "      <td>1.0</td>\n",
       "      <td>0.488533</td>\n",
       "      <td>0.511467</td>\n",
       "      <td>1.0</td>\n",
       "      <td>0.486631</td>\n",
       "      <td>...</td>\n",
       "      <td>0.488500</td>\n",
       "      <td>0.511500</td>\n",
       "      <td>1.0</td>\n",
       "      <td>0.486328</td>\n",
       "      <td>0.513672</td>\n",
       "      <td>1.0</td>\n",
       "      <td>0.488113</td>\n",
       "      <td>0.511887</td>\n",
       "      <td>1.0</td>\n",
       "      <td>0.0</td>\n",
       "    </tr>\n",
       "  </tbody>\n",
       "</table>\n",
       "<p>5 rows × 61 columns</p>\n",
       "</div>"
      ],
      "text/plain": [
       "   LR, penalty=l2, C=1, fit_intercept=True, class_weight=None, solver=lbfgs_0  \\\n",
       "0                                           0.489331                            \n",
       "1                                           0.508575                            \n",
       "2                                           0.507847                            \n",
       "3                                           0.511446                            \n",
       "4                                           0.486538                            \n",
       "\n",
       "   LR, penalty=l2, C=1, fit_intercept=True, class_weight=None, solver=lbfgs_1  \\\n",
       "0                                           0.510669                            \n",
       "1                                           0.491425                            \n",
       "2                                           0.492153                            \n",
       "3                                           0.488554                            \n",
       "4                                           0.513462                            \n",
       "\n",
       "   LR, penalty=l2, C=1, fit_intercept=True, class_weight=None, solver=lbfgs_pred  \\\n",
       "0                                                1.0                               \n",
       "1                                                0.0                               \n",
       "2                                                0.0                               \n",
       "3                                                0.0                               \n",
       "4                                                1.0                               \n",
       "\n",
       "   LR, penalty=l2, C=10, fit_intercept=False, class_weight=balanced, solver=lbfgs_0  \\\n",
       "0                                           0.491370                                  \n",
       "1                                           0.511140                                  \n",
       "2                                           0.510099                                  \n",
       "3                                           0.513235                                  \n",
       "4                                           0.488557                                  \n",
       "\n",
       "   LR, penalty=l2, C=10, fit_intercept=False, class_weight=balanced, solver=lbfgs_1  \\\n",
       "0                                           0.508630                                  \n",
       "1                                           0.488860                                  \n",
       "2                                           0.489901                                  \n",
       "3                                           0.486765                                  \n",
       "4                                           0.511443                                  \n",
       "\n",
       "   LR, penalty=l2, C=10, fit_intercept=False, class_weight=balanced, solver=lbfgs_pred  \\\n",
       "0                                                1.0                                     \n",
       "1                                                0.0                                     \n",
       "2                                                0.0                                     \n",
       "3                                                0.0                                     \n",
       "4                                                1.0                                     \n",
       "\n",
       "   LR, penalty=l2, C=1000, fit_intercept=False, class_weight=balanced, solver=lbfgs_0  \\\n",
       "0                                           0.491255                                    \n",
       "1                                           0.511271                                    \n",
       "2                                           0.510175                                    \n",
       "3                                           0.513110                                    \n",
       "4                                           0.488533                                    \n",
       "\n",
       "   LR, penalty=l2, C=1000, fit_intercept=False, class_weight=balanced, solver=lbfgs_1  \\\n",
       "0                                           0.508745                                    \n",
       "1                                           0.488729                                    \n",
       "2                                           0.489825                                    \n",
       "3                                           0.486890                                    \n",
       "4                                           0.511467                                    \n",
       "\n",
       "   LR, penalty=l2, C=1000, fit_intercept=False, class_weight=balanced, solver=lbfgs_pred  \\\n",
       "0                                                1.0                                       \n",
       "1                                                0.0                                       \n",
       "2                                                0.0                                       \n",
       "3                                                0.0                                       \n",
       "4                                                1.0                                       \n",
       "\n",
       "   LR, penalty=l2, C=10, fit_intercept=False, class_weight=None, solver=lbfgs_0  \\\n",
       "0                                           0.489469                              \n",
       "1                                           0.509060                              \n",
       "2                                           0.508124                              \n",
       "3                                           0.510823                              \n",
       "4                                           0.486631                              \n",
       "\n",
       "    ...    \\\n",
       "0   ...     \n",
       "1   ...     \n",
       "2   ...     \n",
       "3   ...     \n",
       "4   ...     \n",
       "\n",
       "   LR, penalty=l2, C=10, fit_intercept=True, class_weight=balanced, solver=lbfgs_0  \\\n",
       "0                                           0.491432                                 \n",
       "1                                           0.511102                                 \n",
       "2                                           0.510138                                 \n",
       "3                                           0.513103                                 \n",
       "4                                           0.488500                                 \n",
       "\n",
       "   LR, penalty=l2, C=10, fit_intercept=True, class_weight=balanced, solver=lbfgs_1  \\\n",
       "0                                           0.508568                                 \n",
       "1                                           0.488898                                 \n",
       "2                                           0.489862                                 \n",
       "3                                           0.486897                                 \n",
       "4                                           0.511500                                 \n",
       "\n",
       "   LR, penalty=l2, C=10, fit_intercept=True, class_weight=balanced, solver=lbfgs_pred  \\\n",
       "0                                                1.0                                    \n",
       "1                                                0.0                                    \n",
       "2                                                0.0                                    \n",
       "3                                                0.0                                    \n",
       "4                                                1.0                                    \n",
       "\n",
       "   LR, penalty=l2, C=100, fit_intercept=False, class_weight=None, solver=lbfgs_0  \\\n",
       "0                                           0.488871                               \n",
       "1                                           0.509367                               \n",
       "2                                           0.508377                               \n",
       "3                                           0.511255                               \n",
       "4                                           0.486328                               \n",
       "\n",
       "   LR, penalty=l2, C=100, fit_intercept=False, class_weight=None, solver=lbfgs_1  \\\n",
       "0                                           0.511129                               \n",
       "1                                           0.490633                               \n",
       "2                                           0.491623                               \n",
       "3                                           0.488745                               \n",
       "4                                           0.513672                               \n",
       "\n",
       "   LR, penalty=l2, C=100, fit_intercept=False, class_weight=None, solver=lbfgs_pred  \\\n",
       "0                                                1.0                                  \n",
       "1                                                0.0                                  \n",
       "2                                                0.0                                  \n",
       "3                                                0.0                                  \n",
       "4                                                1.0                                  \n",
       "\n",
       "      SGD_0     SGD_1  SGD_pred  target  \n",
       "0  0.490422  0.509578       1.0     1.0  \n",
       "1  0.507362  0.492638       0.0     0.0  \n",
       "2  0.506280  0.493720       0.0     0.0  \n",
       "3  0.513247  0.486753       0.0     0.0  \n",
       "4  0.488113  0.511887       1.0     0.0  \n",
       "\n",
       "[5 rows x 61 columns]"
      ]
     },
     "execution_count": 145,
     "metadata": {},
     "output_type": "execute_result"
    }
   ],
   "source": [
    "stacked_train_data.head()"
   ]
  },
  {
   "cell_type": "markdown",
   "metadata": {
    "deletable": true,
    "editable": true,
    "nbpresent": {
     "id": "85b0af44-1e6b-4072-8c64-25b9f23161a0"
    }
   },
   "source": [
    "# Stacking (level 1)"
   ]
  },
  {
   "cell_type": "code",
   "execution_count": 146,
   "metadata": {
    "collapsed": false,
    "deletable": true,
    "editable": true,
    "nbpresent": {
     "id": "97e83858-09a8-4b8d-ac4b-8ae98d29db4e"
    }
   },
   "outputs": [
    {
     "data": {
      "text/plain": [
       "LogisticRegression(C=1.0, class_weight=None, dual=False, fit_intercept=True,\n",
       "          intercept_scaling=1, max_iter=1000, multi_class='ovr', n_jobs=1,\n",
       "          penalty='l2', random_state=1, solver='liblinear', tol=0.0001,\n",
       "          verbose=0, warm_start=False)"
      ]
     },
     "execution_count": 146,
     "metadata": {},
     "output_type": "execute_result"
    }
   ],
   "source": [
    "clf = linear_model.LogisticRegression(max_iter=1000, random_state=1)\n",
    "clf.fit(stacked_train_data.values[:,:-1], stacked_train_data.values[:,-1])"
   ]
  },
  {
   "cell_type": "code",
   "execution_count": 147,
   "metadata": {
    "collapsed": false,
    "deletable": true,
    "editable": true,
    "nbpresent": {
     "id": "dea2146f-1d4f-4791-b022-667e06bb2076"
    }
   },
   "outputs": [
    {
     "name": "stdout",
     "output_type": "stream",
     "text": [
      "Log Loss: 0.692625680256\n",
      "Cross Validation Log Loss: 0.692867896845\n",
      "Score: 0.512390418996\n"
     ]
    }
   ],
   "source": [
    "#evaluate on original train data\n",
    "p = clf.predict_proba(stacked_train_data.values[:,:-1])\n",
    "print 'Log Loss:', metrics.log_loss(stacked_train_data.values[:,-1], p)\n",
    "score = np.mean(abs(model_selection.cross_val_score(clf, stacked_train_data.values[:,:-1], stacked_train_data.values[:,-1], cv=5, scoring='neg_log_loss')))\n",
    "print 'Cross Validation Log Loss:', score\n",
    "print 'Score:', clf.score(stacked_train_data.values[:,:-1], stacked_train_data.values[:,-1])"
   ]
  },
  {
   "cell_type": "markdown",
   "metadata": {
    "collapsed": true,
    "deletable": true,
    "editable": true,
    "nbpresent": {
     "id": "77ccd6c0-0e1e-42fd-b4c5-d3ddd5ccd9d5"
    }
   },
   "source": [
    "# Submission"
   ]
  },
  {
   "cell_type": "code",
   "execution_count": 148,
   "metadata": {
    "collapsed": false,
    "deletable": true,
    "editable": true,
    "nbpresent": {
     "id": "e2f3eeb1-8b3c-4837-ad94-cea4ca244a18"
    }
   },
   "outputs": [],
   "source": [
    "#write to file (stacked model)\n",
    "submission = '/data/numerai_datasets/' + time.strftime(\"%Y_%m_%d_%H_%M\") + '_stacked_sklearn_' + str(score) + '.csv'\n",
    "\n",
    "proba = clf.predict_proba(stacked_test_data)\n",
    "\n",
    "with open(submission, 'w') as outfile:\n",
    "    outfile.write('t_id,probability\\n')\n",
    "\n",
    "    count = 0\n",
    "    for x in proba:\n",
    "        outfile.write(str(int(ids[count])) + \",\" + '{:f}'.format(proba[count][1]) + \"\\n\")\n",
    "        count = count + 1\n",
    "\n",
    "    outfile.close()"
   ]
  }
 ],
 "metadata": {
  "anaconda-cloud": {},
  "kernelspec": {
   "display_name": "Python [default]",
   "language": "python",
   "name": "python2"
  },
  "language_info": {
   "codemirror_mode": {
    "name": "ipython",
    "version": 2
   },
   "file_extension": ".py",
   "mimetype": "text/x-python",
   "name": "python",
   "nbconvert_exporter": "python",
   "pygments_lexer": "ipython2",
   "version": "2.7.13"
  }
 },
 "nbformat": 4,
 "nbformat_minor": 0
}
